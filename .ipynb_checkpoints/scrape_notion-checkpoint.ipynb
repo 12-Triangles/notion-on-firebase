{
 "cells": [
  {
   "cell_type": "markdown",
   "metadata": {},
   "source": [
    "# Goal of this notebook\n",
    "Write a method called `scrape_notion` which takes in a Notion page ID (like d065149ff38a4e7a9b908aeb262b0f4f) and returns a list of files and their relative paths which represent that page (it might be possible to just return a big HTML blob; do whichever is simpler to implement)\n",
    "\n",
    "Messy parts before diving in:\n",
    "- Page will need to be rendered in a headless browser to get all the JS to do whatever it needs to do\n",
    "- Notion related UI divs will need to be removed (e.g, login button, sidebar)\n",
    "- Static content like CSS and fonts will need to be either scraped or have URL rewritten to point at original resource location\n",
    "- URLs to other Notion pages will need to be rewritten"
   ]
  },
  {
   "cell_type": "code",
   "execution_count": 1,
   "metadata": {
    "collapsed": true
   },
   "outputs": [],
   "source": [
    "def scrape_notion(page_id='d065149ff38a4e7a9b908aeb262b0f4f'):\n",
    "    return 'lol'"
   ]
  },
  {
   "cell_type": "code",
   "execution_count": null,
   "metadata": {
    "collapsed": true
   },
   "outputs": [],
   "source": []
  }
 ],
 "metadata": {
  "anaconda-cloud": {},
  "kernelspec": {
   "display_name": "Python [conda env:notion]",
   "language": "python",
   "name": "conda-env-notion-py"
  },
  "language_info": {
   "codemirror_mode": {
    "name": "ipython",
    "version": 2
   },
   "file_extension": ".py",
   "mimetype": "text/x-python",
   "name": "python",
   "nbconvert_exporter": "python",
   "pygments_lexer": "ipython2",
   "version": "2.7.12"
  }
 },
 "nbformat": 4,
 "nbformat_minor": 1
}
